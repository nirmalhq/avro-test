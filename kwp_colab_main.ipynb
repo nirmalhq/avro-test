{
  "nbformat": 4,
  "nbformat_minor": 0,
  "metadata": {
    "colab": {
      "name": "kwp_colab_main.ipynb",
      "provenance": [],
      "collapsed_sections": [],
      "authorship_tag": "ABX9TyP1z1v1Cag3mE7vtngqaewl",
      "include_colab_link": true
    },
    "kernelspec": {
      "name": "python3",
      "display_name": "Python 3"
    },
    "language_info": {
      "name": "python"
    }
  },
  "cells": [
    {
      "cell_type": "markdown",
      "metadata": {
        "id": "view-in-github",
        "colab_type": "text"
      },
      "source": [
        "<a href=\"https://colab.research.google.com/github/nirmalhq/avro-test/blob/master/kwp_colab_main.ipynb\" target=\"_parent\"><img src=\"https://colab.research.google.com/assets/colab-badge.svg\" alt=\"Open In Colab\"/></a>"
      ]
    },
    {
      "cell_type": "code",
      "source": [
        "!pip install python-dotenv\n",
        "\n",
        "from dotenv import load_dotenv\n",
        "\n",
        "load_dotenv()"
      ],
      "metadata": {
        "colab": {
          "base_uri": "https://localhost:8080/",
          "height": 53
        },
        "id": "o82PQ0XfcnSL",
        "outputId": "8f1c833a-4011-4001-b64a-08be80ad7d3d"
      },
      "execution_count": 3,
      "outputs": [
        {
          "output_type": "stream",
          "name": "stdout",
          "text": [
            "Requirement already satisfied: python-dotenv in /usr/local/lib/python3.7/dist-packages (0.20.0)\n"
          ]
        },
        {
          "output_type": "execute_result",
          "data": {
            "text/plain": [
              "'engineering-infrastructure@seerinteractive.com'"
            ],
            "application/vnd.google.colaboratory.intrinsic+json": {
              "type": "string"
            }
          },
          "metadata": {},
          "execution_count": 3
        }
      ]
    },
    {
      "cell_type": "code",
      "execution_count": 4,
      "metadata": {
        "id": "Say6TSv0QHOZ",
        "colab": {
          "base_uri": "https://localhost:8080/"
        },
        "outputId": "1d352d80-8485-49e5-e26c-7a40ced65764"
      },
      "outputs": [
        {
          "name": "stdout",
          "output_type": "stream",
          "text": [
            "Enter the destination table name: nirmal_temp_table\n"
          ]
        }
      ],
      "source": [
        "destination_table = input(\"Enter the destination table name: \")\n",
        "\n",
        "while True:\n",
        "    if len(destination_table) <= 255 and destination_table.isidentifier():\n",
        "        break\n",
        "\n",
        "    destination_table = input(\"The table name you entered is not valid. Please enter a valid name: \")\n",
        "    "
      ]
    },
    {
      "cell_type": "code",
      "source": [
        "import csv\n",
        "\n",
        "errors = []\n",
        "\n",
        "with open(\"keywords.csv\", encoding=\"utf-8\") as file:\n",
        "    reader = csv.reader(file, delimiter=\",\")\n",
        "\n",
        "    for index, row in enumerate(reader):\n",
        "        if not (row and row[0] and len(row[0]) < 80 and len(row[0].split()) < 10):\n",
        "            errors.append(index)\n",
        "\n",
        "if errors:\n",
        "    print(\"The following rows in file have failed to pass the validation. Please correct them and upload again...\")\n",
        "    print(\", \".join(map(str, errors)))\n",
        "\n",
        "    raise SystemExit(\"Stop right there!\")\n",
        "\n",
        "if index >= 750000:\n",
        "    print(\"The file contains more than 750K keywords...\")\n",
        "\n",
        "    raise SystemExit(\"Stop right there!\")\n"
      ],
      "metadata": {
        "id": "K2Ix8ELX25dX"
      },
      "execution_count": 5,
      "outputs": []
    },
    {
      "cell_type": "code",
      "source": [
        "locations = []\n",
        "with open(\"locations.csv\") as file:\n",
        "    reader = csv.reader(file, delimiter=\",\")\n",
        "\n",
        "    for index, row in enumerate(reader):\n",
        "        # location validation logic should go here\n",
        "        locations.append(row[0])\n",
        "  \n",
        "if index >= 50:\n",
        "    print(\"The location file contains more than 50 locations..\")\n",
        "\n",
        "    raise SystemExit(\"Stop right there!\")"
      ],
      "metadata": {
        "id": "UMgfU2F4FIpD"
      },
      "execution_count": 6,
      "outputs": []
    },
    {
      "cell_type": "code",
      "source": [
        "!pip install emoji\n",
        "\n",
        "import emoji\n",
        "import re\n",
        "\n",
        "def clean_search_term(txt):\n",
        "    cleaned_txt = re.sub(r\"\\s+\", \" \", txt.strip())\n",
        "    cleaned_txt = emoji.replace_emoji(txt, replace=\"\")\n",
        "    cleaned_txt = re.sub(\"[^A-Za-z0-9]+\", \"\", txt)\n",
        "    \n",
        "    return cleaned_txt"
      ],
      "metadata": {
        "id": "I23gE5oBe3Sy",
        "colab": {
          "base_uri": "https://localhost:8080/"
        },
        "outputId": "a4f3726b-ae73-4efe-fa10-dd326a51aa16"
      },
      "execution_count": 7,
      "outputs": [
        {
          "output_type": "stream",
          "name": "stdout",
          "text": [
            "Requirement already satisfied: emoji in /usr/local/lib/python3.7/dist-packages (1.7.0)\n"
          ]
        }
      ]
    },
    {
      "cell_type": "code",
      "source": [
        "def fetch_keywords_as_batches_of_100000():\n",
        "    file = open(\"keywords.csv\", encoding=\"utf-8\")\n",
        "    reader = csv.reader(file, delimiter=\",\")\n",
        "\n",
        "    batch_of_rows = []\n",
        "    for row in reader:\n",
        "        batch_of_rows.append(clean_search_term(row[0]))\n",
        "        \n",
        "        if len(batch_of_rows) == 100000:\n",
        "            yield batch_of_rows\n",
        "            batch_of_rows = []\n",
        "    \n",
        "    if batch_of_rows:\n",
        "        yield batch_of_rows\n",
        "\n",
        "    file.close()"
      ],
      "metadata": {
        "id": "9qv9WfpBHi74"
      },
      "execution_count": 8,
      "outputs": []
    },
    {
      "cell_type": "code",
      "source": [
        "!pip install aiohttp\n",
        "\n",
        "import os\n",
        "import aiohttp\n",
        "import asyncio\n",
        "import base64\n",
        "\n",
        "base64_bytes = base64.b64encode(\n",
        "    (\"%s:%s\" % (os.environ[\"USER_NAME\"], os.environ[\"PASSWORD\"])).encode(\"ascii\")\n",
        ").decode(\"ascii\")\n",
        "headers = {\n",
        "    \"Authorization\": \"Basic %s\" % base64_bytes,\n",
        "    \"Content-Encoding\": \"gzip\",\n",
        "}\n",
        "api_endpoint_url = \"https://api.dataforseo.com/v3/keywords_data/google_ads/search_volume/task_post\"\n",
        "pingback_url = \"https://us-central1-supernova-app-qa.cloudfunctions.net/msv_postback?id=$id&tag=$tag\"\n",
        "\n",
        "async def invoke_api(session, url, payload):\n",
        "    async with session.post(url, data=payload, headers=headers, timeout=10) as resp:\n",
        "        response = resp.json()\n",
        "        if response[\"status_code\"] == 20000:\n",
        "            return 0\n",
        "        else:\n",
        "            return 100000\n",
        "\n",
        "\n",
        "async def api_caller(tasks):\n",
        "    async with aiohttp.ClientSession() as session:\n",
        "        post_tasks = []\n",
        "        for loc in locations:\n",
        "            post_data = dict()\n",
        "            for index in range(0, len(tasks), 1000):\n",
        "                  post_data[len(post_data)] = {\n",
        "                      \"location_code\": loc, \n",
        "                      \"keywords\": tasks[index:index + 1000],\n",
        "                      \"tag\": destination_table,\n",
        "                      \"pingback_url\": pingback_url\n",
        "                  }\n",
        "            post_tasks.append(asyncio.ensure_future(invoke_api(session, api_endpoint_url, post_data)))\n",
        "\n",
        "        responses = await asyncio.gather(*post_tasks)\n",
        "        \n",
        "    return sum(responses)\n"
      ],
      "metadata": {
        "colab": {
          "base_uri": "https://localhost:8080/"
        },
        "id": "ifSEQ-4Kuyl2",
        "outputId": "725b6724-a960-42bf-c2b5-cb173d20380f"
      },
      "execution_count": 10,
      "outputs": [
        {
          "output_type": "stream",
          "name": "stdout",
          "text": [
            "Requirement already satisfied: aiohttp in /usr/local/lib/python3.7/dist-packages (3.8.1)\n",
            "Requirement already satisfied: charset-normalizer<3.0,>=2.0 in /usr/local/lib/python3.7/dist-packages (from aiohttp) (2.0.12)\n",
            "Requirement already satisfied: multidict<7.0,>=4.5 in /usr/local/lib/python3.7/dist-packages (from aiohttp) (6.0.2)\n",
            "Requirement already satisfied: aiosignal>=1.1.2 in /usr/local/lib/python3.7/dist-packages (from aiohttp) (1.2.0)\n",
            "Requirement already satisfied: asynctest==0.13.0 in /usr/local/lib/python3.7/dist-packages (from aiohttp) (0.13.0)\n",
            "Requirement already satisfied: typing-extensions>=3.7.4 in /usr/local/lib/python3.7/dist-packages (from aiohttp) (3.10.0.2)\n",
            "Requirement already satisfied: frozenlist>=1.1.1 in /usr/local/lib/python3.7/dist-packages (from aiohttp) (1.3.0)\n",
            "Requirement already satisfied: async-timeout<5.0,>=4.0.0a3 in /usr/local/lib/python3.7/dist-packages (from aiohttp) (4.0.2)\n",
            "Requirement already satisfied: attrs>=17.3.0 in /usr/local/lib/python3.7/dist-packages (from aiohttp) (21.4.0)\n",
            "Requirement already satisfied: yarl<2.0,>=1.0 in /usr/local/lib/python3.7/dist-packages (from aiohttp) (1.7.2)\n",
            "Requirement already satisfied: idna>=2.0 in /usr/local/lib/python3.7/dist-packages (from yarl<2.0,>=1.0->aiohttp) (2.10)\n"
          ]
        }
      ]
    },
    {
      "cell_type": "code",
      "source": [
        "import concurrent.futures\n",
        "import queue\n",
        "\n",
        "def send_tasks_to_dataforseo(tasks, mp_queue, index):\n",
        "    loop = asyncio.get_running_loop()\n",
        "    \n",
        "    tsk = loop.create_task(api_caller(tasks))\n",
        "    tsk.add_done_callback(lambda t: print(f\"Failed task's count={tsk.result()}\"))\n",
        "\n",
        "    mp_queue.put(index)"
      ],
      "metadata": {
        "id": "eJrqWuaPUvUi"
      },
      "execution_count": 11,
      "outputs": []
    },
    {
      "cell_type": "code",
      "source": [
        "executor = concurrent.futures.ThreadPoolExecutor(max_workers=50)\n",
        "active_futures = {}\n",
        "mp_queue = queue.Queue()\n",
        "\n",
        "fetch_keywords_as_batches_of_100000_func_generator = fetch_keywords_as_batches_of_100000()\n",
        "for index, batch_of_rows in enumerate(fetch_keywords_as_batches_of_100000_func_generator):\n",
        "    future = executor.submit(send_tasks_to_dataforseo, batch_of_rows, mp_queue, index)\n",
        "    active_futures[index] = future\n",
        "\n",
        "    if index >= 49:\n",
        "      break\n",
        "\n",
        "while True:\n",
        "    if not active_futures:\n",
        "        break\n",
        "    \n",
        "    future_index = mp_queue.get(timeout=5)\n",
        "    del active_futures[future_index]\n",
        "    try:\n",
        "        batch_of_rows = next(fetch_keywords_as_batches_of_100000_func_generator)\n",
        "    except StopIteration:\n",
        "        pass\n",
        "    else:\n",
        "        future = executor.submit(send_tasks_to_dataforseo, batch_of_rows, mp_queue, future_index)\n",
        "        active_futures[future_index] = future\n",
        "    finally:\n",
        "        mp_queue.task_done()\n",
        "\n",
        "executor.shutdown(wait=False)"
      ],
      "metadata": {
        "id": "guJp4ofPNtFB",
        "colab": {
          "base_uri": "https://localhost:8080/",
          "height": 356
        },
        "outputId": "f1b138ea-2e69-4d54-c257-f1b4d83e4507"
      },
      "execution_count": 12,
      "outputs": [
        {
          "output_type": "error",
          "ename": "Empty",
          "evalue": "ignored",
          "traceback": [
            "\u001b[0;31m---------------------------------------------------------------------------\u001b[0m",
            "\u001b[0;31mEmpty\u001b[0m                                     Traceback (most recent call last)",
            "\u001b[0;32m<ipython-input-12-f45a03bb85da>\u001b[0m in \u001b[0;36m<module>\u001b[0;34m()\u001b[0m\n\u001b[1;32m     15\u001b[0m         \u001b[0;32mbreak\u001b[0m\u001b[0;34m\u001b[0m\u001b[0;34m\u001b[0m\u001b[0m\n\u001b[1;32m     16\u001b[0m \u001b[0;34m\u001b[0m\u001b[0m\n\u001b[0;32m---> 17\u001b[0;31m     \u001b[0mfuture_index\u001b[0m \u001b[0;34m=\u001b[0m \u001b[0mmp_queue\u001b[0m\u001b[0;34m.\u001b[0m\u001b[0mget\u001b[0m\u001b[0;34m(\u001b[0m\u001b[0mtimeout\u001b[0m\u001b[0;34m=\u001b[0m\u001b[0;36m5\u001b[0m\u001b[0;34m)\u001b[0m\u001b[0;34m\u001b[0m\u001b[0;34m\u001b[0m\u001b[0m\n\u001b[0m\u001b[1;32m     18\u001b[0m     \u001b[0;32mdel\u001b[0m \u001b[0mactive_futures\u001b[0m\u001b[0;34m[\u001b[0m\u001b[0mfuture_index\u001b[0m\u001b[0;34m]\u001b[0m\u001b[0;34m\u001b[0m\u001b[0;34m\u001b[0m\u001b[0m\n\u001b[1;32m     19\u001b[0m     \u001b[0;32mtry\u001b[0m\u001b[0;34m:\u001b[0m\u001b[0;34m\u001b[0m\u001b[0;34m\u001b[0m\u001b[0m\n",
            "\u001b[0;32m/usr/lib/python3.7/queue.py\u001b[0m in \u001b[0;36mget\u001b[0;34m(self, block, timeout)\u001b[0m\n\u001b[1;32m    176\u001b[0m                     \u001b[0mremaining\u001b[0m \u001b[0;34m=\u001b[0m \u001b[0mendtime\u001b[0m \u001b[0;34m-\u001b[0m \u001b[0mtime\u001b[0m\u001b[0;34m(\u001b[0m\u001b[0;34m)\u001b[0m\u001b[0;34m\u001b[0m\u001b[0;34m\u001b[0m\u001b[0m\n\u001b[1;32m    177\u001b[0m                     \u001b[0;32mif\u001b[0m \u001b[0mremaining\u001b[0m \u001b[0;34m<=\u001b[0m \u001b[0;36m0.0\u001b[0m\u001b[0;34m:\u001b[0m\u001b[0;34m\u001b[0m\u001b[0;34m\u001b[0m\u001b[0m\n\u001b[0;32m--> 178\u001b[0;31m                         \u001b[0;32mraise\u001b[0m \u001b[0mEmpty\u001b[0m\u001b[0;34m\u001b[0m\u001b[0;34m\u001b[0m\u001b[0m\n\u001b[0m\u001b[1;32m    179\u001b[0m                     \u001b[0mself\u001b[0m\u001b[0;34m.\u001b[0m\u001b[0mnot_empty\u001b[0m\u001b[0;34m.\u001b[0m\u001b[0mwait\u001b[0m\u001b[0;34m(\u001b[0m\u001b[0mremaining\u001b[0m\u001b[0;34m)\u001b[0m\u001b[0;34m\u001b[0m\u001b[0;34m\u001b[0m\u001b[0m\n\u001b[1;32m    180\u001b[0m             \u001b[0mitem\u001b[0m \u001b[0;34m=\u001b[0m \u001b[0mself\u001b[0m\u001b[0;34m.\u001b[0m\u001b[0m_get\u001b[0m\u001b[0;34m(\u001b[0m\u001b[0;34m)\u001b[0m\u001b[0;34m\u001b[0m\u001b[0;34m\u001b[0m\u001b[0m\n",
            "\u001b[0;31mEmpty\u001b[0m: "
          ]
        }
      ]
    }
  ]
}